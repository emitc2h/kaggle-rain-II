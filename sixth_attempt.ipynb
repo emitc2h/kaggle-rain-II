{
 "cells": [
  {
   "cell_type": "code",
   "execution_count": 1,
   "metadata": {
    "collapsed": true
   },
   "outputs": [],
   "source": [
    "## Enable matplotlib inline\n",
    "%matplotlib inline\n",
    "import matplotlib.pyplot as plt\n",
    "\n",
    "## Imports\n",
    "import pandas as pd\n",
    "pd.set_option('mode.chained_assignment',None)\n",
    "pd.set_option('display.mpl_style', 'default') \n",
    "pd.set_option('display.width', 5000) \n",
    "pd.set_option('display.max_columns', 200)\n",
    "pd.set_option('display.max_rows', 200)\n",
    "\n",
    "import numpy as np\n",
    "from sklearn import ensemble\n",
    "from sklearn import metrics\n",
    "\n",
    "import mytools"
   ]
  },
  {
   "cell_type": "markdown",
   "metadata": {},
   "source": [
    "# General Strategy\n",
    "   * Create masks to split the training and testing datasets into five distinct datasets, which will be treated differently:\n",
    "       * **Polarized:** perfect record for all 5 variables, for the whole time series\n",
    "       * **Basic:** perfect record for the reflectivity variables only, the polarization variables consistently missing\n",
    "       * **Null:** All data points are missing for the whole time series\n",
    "       * **Partial Polarized:** Contains non-null values in both reflectivity and polarization variables\n",
    "       * **Partial Basic:** All polarized variables are missing, and the record for reflectivity is incomplete"
   ]
  },
  {
   "cell_type": "code",
   "execution_count": 2,
   "metadata": {
    "collapsed": true
   },
   "outputs": [],
   "source": [
    "## Read in training data\n",
    "train_df = pd.read_csv('train.csv')"
   ]
  },
  {
   "cell_type": "markdown",
   "metadata": {},
   "source": [
    "Start by converting the entire dataset to booleans, indicating whether or not the data is present. Put back the 'Id' column however, since it has to be used for grouping."
   ]
  },
  {
   "cell_type": "code",
   "execution_count": 3,
   "metadata": {
    "collapsed": false
   },
   "outputs": [],
   "source": [
    "bool_df = train_df.notnull()\n",
    "bool_df['Id'] = train_df['Id']\n",
    "\n",
    "## Remove columns where the data is always present\n",
    "del bool_df['minutes_past']\n",
    "del bool_df['radardist_km']\n",
    "del bool_df['Expected']"
   ]
  },
  {
   "cell_type": "markdown",
   "metadata": {},
   "source": [
    "Create lists of columns to group the data for convenience"
   ]
  },
  {
   "cell_type": "code",
   "execution_count": 4,
   "metadata": {
    "collapsed": true
   },
   "outputs": [],
   "source": [
    "all_columns = [\n",
    "    'Ref',\n",
    "    'Ref_5x5_10th',\n",
    "    'Ref_5x5_50th',\n",
    "    'Ref_5x5_90th',\n",
    "    'RefComposite',\n",
    "    'RefComposite_5x5_10th',\n",
    "    'RefComposite_5x5_50th',\n",
    "    'RefComposite_5x5_90th',\n",
    "    'RhoHV',\n",
    "    'RhoHV_5x5_10th',\n",
    "    'RhoHV_5x5_50th',\n",
    "    'RhoHV_5x5_90th',\n",
    "    'Zdr',\n",
    "    'Zdr_5x5_10th',\n",
    "    'Zdr_5x5_50th',\n",
    "    'Zdr_5x5_90th',\n",
    "    'Kdp',\n",
    "    'Kdp_5x5_10th',\n",
    "    'Kdp_5x5_50th',\n",
    "    'Kdp_5x5_90th'\n",
    "    ]\n",
    "\n",
    "basic_columns = all_columns[:8]\n",
    "polarized_columns = all_columns[8:]"
   ]
  },
  {
   "cell_type": "markdown",
   "metadata": {},
   "source": [
    "## 1 - Polarized Dataset\n",
    "In this section, we isolate the radar readings of the training dataset with absolutely no missing data.\n",
    "\n",
    "### 1.1 - Create and apply the mask\n",
    "We'll work from the booleanized dataset to create a mask. We'll group by 'Id', and aggregate using np.all(), which requires all entries in an array to evaluate to True. If there is even only one False, it will evaluate to False."
   ]
  },
  {
   "cell_type": "code",
   "execution_count": 5,
   "metadata": {
    "collapsed": true
   },
   "outputs": [],
   "source": [
    "groups = bool_df.groupby('Id')\n",
    "grouped = groups.agg(np.all)"
   ]
  },
  {
   "cell_type": "markdown",
   "metadata": {},
   "source": [
    "We'll create a map that maps every Id to whether they are part of the polarized dataset or not, and then we'll apply this map to the training dataset to create the polarized dataset."
   ]
  },
  {
   "cell_type": "code",
   "execution_count": 27,
   "metadata": {
    "collapsed": false
   },
   "outputs": [],
   "source": [
    "mask_map = grouped[all_columns].all(axis=1)\n",
    "polarized_df = train_df[train_df['Id'].map(mask_map)]"
   ]
  },
  {
   "cell_type": "markdown",
   "metadata": {},
   "source": [
    "### 1.2 - Integrate the time series\n",
    "We'll integrate the reflectivities over time, by first computing time intervals associated with each entry, and then multiplying these by the reflectivities, and then grouping by summation. No substitutions are necessary in the polarized dataset. In fact, all 25 variables can be used as inputs if desired. We'll start by creating an 'interval' column in which we will compute the time interval corresponding to each reflectivity reading."
   ]
  },
  {
   "cell_type": "code",
   "execution_count": 28,
   "metadata": {
    "collapsed": false
   },
   "outputs": [],
   "source": [
    "polarized_df['interval'] = polarized_df['minutes_past'].diff()"
   ]
  },
  {
   "cell_type": "markdown",
   "metadata": {},
   "source": [
    "Then we'll try to obtain masks for the beginnings and ends of each 'Id' group, in order to treat them correctly:\n",
    "   * The first interval of each group should correspond exactly to 'minutes_past'\n",
    "   * The last interval of each group should correspond to 60 - last 'minutes_past' + difference"
   ]
  },
  {
   "cell_type": "code",
   "execution_count": 29,
   "metadata": {
    "collapsed": true
   },
   "outputs": [],
   "source": [
    "## Build two masks, to single out first and last rows of each group\n",
    "group_begin_mask = polarized_df['Id'].diff() != 0\n",
    "group_end_mask   = polarized_df['Id'].diff().shift(-1) != 0"
   ]
  },
  {
   "cell_type": "code",
   "execution_count": 30,
   "metadata": {
    "collapsed": false,
    "scrolled": false
   },
   "outputs": [],
   "source": [
    "## Patch the beginning entry of each group\n",
    "polarized_df['interval'][group_begin_mask] = polarized_df['minutes_past'][group_begin_mask]"
   ]
  },
  {
   "cell_type": "code",
   "execution_count": 31,
   "metadata": {
    "collapsed": true
   },
   "outputs": [],
   "source": [
    "## Patch the last entry of each group\n",
    "polarized_df['interval'][group_end_mask] = 60 + polarized_df['interval'][group_end_mask] - polarized_df['minutes_past'][group_end_mask]"
   ]
  },
  {
   "cell_type": "markdown",
   "metadata": {},
   "source": [
    "Next, we'll calculate integrated quantities over time."
   ]
  },
  {
   "cell_type": "code",
   "execution_count": 32,
   "metadata": {
    "collapsed": false
   },
   "outputs": [],
   "source": [
    "## Multiply the quantities by the time intervals\n",
    "for var in ['Ref', 'RefComposite', 'RhoHV', 'Zdr', 'Kdp']:\n",
    "    polarized_df['Int_{0}'.format(var)] = polarized_df['interval'] * polarized_df[var]"
   ]
  },
  {
   "cell_type": "code",
   "execution_count": 33,
   "metadata": {
    "collapsed": true
   },
   "outputs": [],
   "source": [
    "## Different values need to be grouped in different ways\n",
    "expected  = polarized_df[['Id', 'Expected', 'radardist_km']]\n",
    "expected  = expected.groupby('Id', as_index=False).first()\n",
    "\n",
    "variables = polarized_df[['Id', 'Int_Ref', 'Int_RefComposite', 'Int_RhoHV', 'Int_Zdr', 'Int_Kdp']]\n",
    "variables = variables.groupby('Id', as_index=False).sum()"
   ]
  },
  {
   "cell_type": "code",
   "execution_count": 34,
   "metadata": {
    "collapsed": true
   },
   "outputs": [],
   "source": [
    "## transform the integrated values into average values\n",
    "for var in ['Int_Ref', 'Int_RefComposite', 'Int_RhoHV', 'Int_Zdr', 'Int_Kdp']:\n",
    "    variables[var] = variables[var]/60.0"
   ]
  },
  {
   "cell_type": "code",
   "execution_count": 35,
   "metadata": {
    "collapsed": true
   },
   "outputs": [],
   "source": [
    "## Merge back expected and variables\n",
    "polarized_df = pd.merge(variables, expected, on='Id')"
   ]
  },
  {
   "cell_type": "code",
   "execution_count": 36,
   "metadata": {
    "collapsed": false
   },
   "outputs": [
    {
     "name": "stdout",
     "output_type": "stream",
     "text": [
      "90045\n"
     ]
    }
   ],
   "source": [
    "n_polarized = len(polarized_df)\n",
    "print n_polarized"
   ]
  },
  {
   "cell_type": "markdown",
   "metadata": {},
   "source": [
    "### 1.3 - Data cleaning"
   ]
  },
  {
   "cell_type": "code",
   "execution_count": 37,
   "metadata": {
    "collapsed": false
   },
   "outputs": [],
   "source": [
    "## A little bit of cleaning\n",
    "clean_polarized_df = polarized_df.fillna(-1111.0)\n",
    "clean_polarized_df = mytools.clean_stuck_gauges(clean_polarized_df, threshold=20)\n",
    "clean_polarized_df = clean_polarized_df[clean_polarized_df['Expected'] < 50.0]"
   ]
  },
  {
   "cell_type": "markdown",
   "metadata": {},
   "source": [
    "### 1.4 - Train the Boosted Regression Trees"
   ]
  },
  {
   "cell_type": "code",
   "execution_count": 76,
   "metadata": {
    "collapsed": false
   },
   "outputs": [],
   "source": [
    "## Extract numpy arrays to pass to scikit-learn for training\n",
    "train_data   = clean_polarized_df[['radardist_km', 'Int_Ref', 'Int_RefComposite', 'Int_RhoHV', 'Int_Zdr', 'Int_Kdp']].values\n",
    "train_target = clean_polarized_df['Expected'].values"
   ]
  },
  {
   "cell_type": "code",
   "execution_count": 77,
   "metadata": {
    "collapsed": false
   },
   "outputs": [
    {
     "data": {
      "text/plain": [
       "GradientBoostingRegressor(alpha=0.9, init=None, learning_rate=0.1, loss='ls',\n",
       "             max_depth=4, max_features=None, max_leaf_nodes=None,\n",
       "             min_samples_leaf=1, min_samples_split=2,\n",
       "             min_weight_fraction_leaf=0.0, n_estimators=1000,\n",
       "             random_state=None, subsample=1.0, verbose=0, warm_start=False)"
      ]
     },
     "execution_count": 77,
     "metadata": {},
     "output_type": "execute_result"
    }
   ],
   "source": [
    "## Train the Boosted Regression trees\n",
    "polarized_brt = ensemble.GradientBoostingRegressor(max_depth=4, n_estimators=1000)\n",
    "polarized_brt.fit(train_data, train_target)"
   ]
  },
  {
   "cell_type": "code",
   "execution_count": 78,
   "metadata": {
    "collapsed": true
   },
   "outputs": [],
   "source": [
    "## Define function to evaluate the BRT\n",
    "def predict(\n",
    "    radardist_km,\n",
    "    Ref,\n",
    "    RefComposite,\n",
    "    RhoHV,\n",
    "    Zdr,\n",
    "    Kdp,\n",
    "    ):\n",
    "    \n",
    "    return polarized_brt.predict([\n",
    "        radardist_km,\n",
    "        Ref,\n",
    "        RefComposite,\n",
    "        RhoHV,\n",
    "        Zdr,\n",
    "        Kdp,\n",
    "    ])[0]"
   ]
  },
  {
   "cell_type": "code",
   "execution_count": 79,
   "metadata": {
    "collapsed": false
   },
   "outputs": [],
   "source": [
    "## Calculate the output\n",
    "polarized_df['Predicted'] = map(\n",
    "    predict,\n",
    "    polarized_df['radardist_km'],\n",
    "    polarized_df['Int_Ref'],\n",
    "    polarized_df['Int_RefComposite'],\n",
    "    polarized_df['Int_RhoHV'],\n",
    "    polarized_df['Int_Zdr'],\n",
    "    polarized_df['Int_Kdp'],\n",
    ")"
   ]
  },
  {
   "cell_type": "markdown",
   "metadata": {},
   "source": [
    "### 1.5 - Visualize and evaluate"
   ]
  },
  {
   "cell_type": "code",
   "execution_count": 80,
   "metadata": {
    "collapsed": false
   },
   "outputs": [
    {
     "data": {
      "image/png": "[encoded data removed]",
      "text/plain": [
       "<matplotlib.figure.Figure at 0x11a0f7ad0>"
      ]
     },
     "metadata": {},
     "output_type": "display_data"
    }
   ],
   "source": [
    "sm = mytools.ScatterMatrix(polarized_df)\n",
    "sm.add('radardist_km', 0, 20)\n",
    "sm.add('Int_Ref', 0, 50)\n",
    "sm.add('Int_RefComposite', 0, 50)\n",
    "sm.add('Int_RhoHV', 0.8, 1.05)\n",
    "sm.add('Int_Zdr', -2,3)\n",
    "sm.add('Int_Kdp', -10, 10)\n",
    "sm.add('Expected', 0, 10)\n",
    "sm.add('Predicted', 0, 10)\n",
    "sm.plot()"
   ]
  },
  {
   "cell_type": "code",
   "execution_count": 81,
   "metadata": {
    "collapsed": false
   },
   "outputs": [
    {
     "name": "stdout",
     "output_type": "stream",
     "text": [
      "9.92913140611\n"
     ]
    }
   ],
   "source": [
    "print metrics.mean_absolute_error(polarized_df['Expected'].values, polarized_df['Predicted'].values)"
   ]
  },
  {
   "cell_type": "markdown",
   "metadata": {},
   "source": [
    "## 2 - Basic Dataset\n",
    "In this section, we analyze the data for which we have perfect reflectivity records, but no polarization data at all."
   ]
  },
  {
   "cell_type": "markdown",
   "metadata": {},
   "source": [
    "### 2.1 - Create and apply the mask"
   ]
  },
  {
   "cell_type": "code",
   "execution_count": null,
   "metadata": {
    "collapsed": false
   },
   "outputs": [],
   "source": [
    "## Find rows with complete reflectivity data\n",
    "groups = bool_df[['Id'] + basic_columns].groupby('Id')\n",
    "grouped = groups.agg(np.all)"
   ]
  },
  {
   "cell_type": "code",
   "execution_count": null,
   "metadata": {
    "collapsed": true
   },
   "outputs": [],
   "source": [
    "basic_mask_map = grouped[basic_columns].all(axis=1)"
   ]
  },
  {
   "cell_type": "code",
   "execution_count": null,
   "metadata": {
    "collapsed": true
   },
   "outputs": [],
   "source": [
    "## Find rows without any polarization data\n",
    "groups = bool_df[['Id'] + polarized_columns].groupby('Id')\n",
    "grouped = groups.agg(np.any)"
   ]
  },
  {
   "cell_type": "code",
   "execution_count": null,
   "metadata": {
    "collapsed": true
   },
   "outputs": [],
   "source": [
    "polarized_mask_map = ~grouped[polarized_columns].any(axis=1)"
   ]
  },
  {
   "cell_type": "code",
   "execution_count": null,
   "metadata": {
    "collapsed": true
   },
   "outputs": [],
   "source": [
    "mask_map = basic_mask_map & polarized_mask_map"
   ]
  },
  {
   "cell_type": "code",
   "execution_count": null,
   "metadata": {
    "collapsed": false
   },
   "outputs": [],
   "source": [
    "basic_df = train_df[train_df['Id'].map(mask_map)]"
   ]
  },
  {
   "cell_type": "code",
   "execution_count": null,
   "metadata": {
    "collapsed": false
   },
   "outputs": [],
   "source": [
    "## Drop the polarization columns\n",
    "for col in polarized_columns:\n",
    "    del basic_df[col]"
   ]
  },
  {
   "cell_type": "markdown",
   "metadata": {},
   "source": [
    "### 2.2 - Integrate the time series"
   ]
  },
  {
   "cell_type": "code",
   "execution_count": null,
   "metadata": {
    "collapsed": true
   },
   "outputs": [],
   "source": [
    "## -------------------------------------------\n",
    "def intervals(df):\n",
    "    \"\"\"\n",
    "    Adds a column to the dataframe assigning a time interval for each entry\n",
    "    \"\"\"\n",
    "    \n",
    "    df['interval'] = df['minutes_past'].diff()\n",
    "    \n",
    "    ## Build two masks, to single out first and last rows of each group\n",
    "    group_begin_mask = df['Id'].diff() != 0\n",
    "    group_end_mask   = df['Id'].diff().shift(-1) != 0\n",
    "    \n",
    "    ## Patch the beginning entry of each group\n",
    "    df['interval'][group_begin_mask] = df['minutes_past'][group_begin_mask]\n",
    "    \n",
    "    ## Patch the last entry of each group\n",
    "    df['interval'][group_end_mask] = 60 + df['interval'][group_end_mask] - df['minutes_past'][group_end_mask]"
   ]
  },
  {
   "cell_type": "code",
   "execution_count": null,
   "metadata": {
    "collapsed": true
   },
   "outputs": [],
   "source": [
    "intervals(basic_df)"
   ]
  },
  {
   "cell_type": "code",
   "execution_count": null,
   "metadata": {
    "collapsed": false
   },
   "outputs": [],
   "source": [
    "## -------------------------------------------\n",
    "def integrated_mean(df, columns=['Ref', 'RefComposite', 'RhoHV', 'Zdr', 'Kdp']):\n",
    "    \"\"\"\n",
    "    Uses the time intervals computed with intervals() to calculate a mean from integration\n",
    "    \"\"\"\n",
    "    \n",
    "    int_columns = []\n",
    "    \n",
    "    ## Multiply the quantities by the time intervals\n",
    "    for var in columns:\n",
    "        name = 'Int_{0}'.format(var)\n",
    "        df[name] = df['interval'] * df[var]\n",
    "        int_columns.append(name)\n",
    "        \n",
    "    ## Different values need to be grouped in different ways\n",
    "    expected  = df[['Id', 'Expected', 'radardist_km']]\n",
    "    expected  = expected.groupby('Id', as_index=False).mean()\n",
    "\n",
    "    variables = df[['Id'] + int_columns]\n",
    "    variables = variables.groupby('Id', as_index=False).sum()\n",
    "    \n",
    "    ## transform the integrated values into average values\n",
    "    for var in int_columns:\n",
    "        variables[var] = variables[var]/60.0\n",
    "        \n",
    "    ## Merge back expected and variables\n",
    "    return pd.merge(variables, expected, on='Id')"
   ]
  },
  {
   "cell_type": "code",
   "execution_count": null,
   "metadata": {
    "collapsed": true
   },
   "outputs": [],
   "source": [
    "basic_df = integrated_mean(basic_df, ['Ref', 'RefComposite'])"
   ]
  },
  {
   "cell_type": "code",
   "execution_count": null,
   "metadata": {
    "collapsed": false
   },
   "outputs": [],
   "source": [
    "n_basic = len(basic_df)\n",
    "print n_basic"
   ]
  },
  {
   "cell_type": "markdown",
   "metadata": {},
   "source": [
    "### 2.3 - Data cleaning"
   ]
  },
  {
   "cell_type": "code",
   "execution_count": null,
   "metadata": {
    "collapsed": true
   },
   "outputs": [],
   "source": [
    "## A little bit of cleaning\n",
    "## -------------------------------------------\n",
    "def clean(df):\n",
    "    \"\"\"\n",
    "    Cleaning the data before training\n",
    "    \"\"\"\n",
    "    \n",
    "    clean_df = df.fillna(-1111.0)\n",
    "    clean_df = mytools.clean_stuck_gauges(clean_df, threshold=20)\n",
    "    clean_df = clean_df[clean_df['Expected'] < 50.0]\n",
    "    \n",
    "    return clean_df"
   ]
  },
  {
   "cell_type": "code",
   "execution_count": null,
   "metadata": {
    "collapsed": true
   },
   "outputs": [],
   "source": [
    "clean_basic_df = clean(basic_df)"
   ]
  },
  {
   "cell_type": "markdown",
   "metadata": {},
   "source": [
    "### 2.4 - Train the Boosted Regression Trees"
   ]
  },
  {
   "cell_type": "code",
   "execution_count": null,
   "metadata": {
    "collapsed": true
   },
   "outputs": [],
   "source": [
    "## Extract numpy arrays to pass to scikit-learn for training\n",
    "train_data   = clean_basic_df[['radardist_km', 'Int_Ref', 'Int_RefComposite']].values\n",
    "train_target = clean_basic_df['Expected'].values"
   ]
  },
  {
   "cell_type": "code",
   "execution_count": null,
   "metadata": {
    "collapsed": false
   },
   "outputs": [],
   "source": [
    "## Train the Boosted Regression trees\n",
    "basic_brt = ensemble.GradientBoostingRegressor(max_depth=4, n_estimators=1000)\n",
    "basic_brt.fit(train_data, train_target)"
   ]
  },
  {
   "cell_type": "code",
   "execution_count": null,
   "metadata": {
    "collapsed": true
   },
   "outputs": [],
   "source": [
    "## Define function to evaluate the BRT\n",
    "def basic_predict(\n",
    "    radardist_km,\n",
    "    Ref,\n",
    "    RefComposite\n",
    "    ):\n",
    "    \n",
    "    return basic_brt.predict([\n",
    "        radardist_km,\n",
    "        Ref,\n",
    "        RefComposite\n",
    "    ])[0]"
   ]
  },
  {
   "cell_type": "code",
   "execution_count": null,
   "metadata": {
    "collapsed": false
   },
   "outputs": [],
   "source": [
    "## Calculate the output\n",
    "basic_df['Predicted'] = map(\n",
    "    basic_predict,\n",
    "    basic_df['radardist_km'],\n",
    "    basic_df['Int_Ref'],\n",
    "    basic_df['Int_RefComposite']\n",
    ")"
   ]
  },
  {
   "cell_type": "markdown",
   "metadata": {},
   "source": [
    "### 2.5 - Visualize and evaluate"
   ]
  },
  {
   "cell_type": "code",
   "execution_count": null,
   "metadata": {
    "collapsed": false
   },
   "outputs": [],
   "source": [
    "sm = mytools.ScatterMatrix(basic_df)\n",
    "sm.add('radardist_km', 0, 20)\n",
    "sm.add('Int_Ref', 0, 50)\n",
    "sm.add('Int_RefComposite', 0, 50)\n",
    "sm.add('Expected', 0, 20)\n",
    "sm.add('Predicted', 0, 20)\n",
    "sm.plot()"
   ]
  },
  {
   "cell_type": "code",
   "execution_count": null,
   "metadata": {
    "collapsed": false
   },
   "outputs": [],
   "source": [
    "print metrics.mean_absolute_error(basic_df['Expected'].values, basic_df['Predicted'].values)"
   ]
  },
  {
   "cell_type": "markdown",
   "metadata": {},
   "source": [
    "## 3 - Null Dataset"
   ]
  },
  {
   "cell_type": "code",
   "execution_count": null,
   "metadata": {
    "collapsed": true
   },
   "outputs": [],
   "source": [
    "## Find rows with any column filled\n",
    "groups = bool_df[['Id'] + all_columns].groupby('Id')\n",
    "grouped = groups.agg(np.any)"
   ]
  },
  {
   "cell_type": "code",
   "execution_count": null,
   "metadata": {
    "collapsed": true
   },
   "outputs": [],
   "source": [
    "mask_map = ~grouped[all_columns].any(axis=1)"
   ]
  },
  {
   "cell_type": "code",
   "execution_count": null,
   "metadata": {
    "collapsed": true
   },
   "outputs": [],
   "source": [
    "null_df = train_df[train_df['Id'].map(mask_map)]"
   ]
  },
  {
   "cell_type": "code",
   "execution_count": null,
   "metadata": {
    "collapsed": false
   },
   "outputs": [],
   "source": [
    "null_df = null_df.groupby('Id').mean()"
   ]
  },
  {
   "cell_type": "code",
   "execution_count": null,
   "metadata": {
    "collapsed": false
   },
   "outputs": [],
   "source": [
    "n_null = len(null_df)\n",
    "print n_null"
   ]
  },
  {
   "cell_type": "code",
   "execution_count": null,
   "metadata": {
    "collapsed": false
   },
   "outputs": [],
   "source": [
    "for col in all_columns:\n",
    "    del null_df[col]"
   ]
  },
  {
   "cell_type": "code",
   "execution_count": null,
   "metadata": {
    "collapsed": false
   },
   "outputs": [],
   "source": [
    "null_prediction = null_df['Expected'].median()\n",
    "print null_prediction"
   ]
  },
  {
   "cell_type": "code",
   "execution_count": null,
   "metadata": {
    "collapsed": true
   },
   "outputs": [],
   "source": [
    "## Calculate the output\n",
    "null_df['Predicted'] = null_prediction"
   ]
  },
  {
   "cell_type": "code",
   "execution_count": null,
   "metadata": {
    "collapsed": false
   },
   "outputs": [],
   "source": [
    "print metrics.mean_absolute_error(null_df['Expected'].values, null_df['Predicted'].values)"
   ]
  },
  {
   "cell_type": "markdown",
   "metadata": {},
   "source": [
    "## 4 - Partial Polarized and Partial Basic Datasets\n",
    "\n",
    "### 4.1 - Create and apply the masks"
   ]
  },
  {
   "cell_type": "code",
   "execution_count": null,
   "metadata": {
    "collapsed": false
   },
   "outputs": [],
   "source": [
    "## Find at least one entry in the reflectivity columns, but not all\n",
    "groups = bool_df[['Id'] + basic_columns].groupby('Id')\n",
    "any_grouped = groups.agg(np.any)\n",
    "all_grouped = groups.agg(np.all)\n",
    "\n",
    "print len(groups)"
   ]
  },
  {
   "cell_type": "code",
   "execution_count": null,
   "metadata": {
    "collapsed": true
   },
   "outputs": [],
   "source": [
    "basic_any_mask_map = any_grouped[basic_columns].any(axis=1)\n",
    "basic_all_mask_map = all_grouped[basic_columns].all(axis=1)"
   ]
  },
  {
   "cell_type": "code",
   "execution_count": null,
   "metadata": {
    "collapsed": true
   },
   "outputs": [],
   "source": [
    "basic_mask_map = basic_any_mask_map & ~basic_all_mask_map"
   ]
  },
  {
   "cell_type": "code",
   "execution_count": null,
   "metadata": {
    "collapsed": false,
    "scrolled": false
   },
   "outputs": [],
   "source": [
    "groups = bool_df[['Id'] + polarized_columns].groupby('Id')\n",
    "any_grouped = groups.agg(np.any)\n",
    "all_grouped = groups.agg(np.all)"
   ]
  },
  {
   "cell_type": "code",
   "execution_count": null,
   "metadata": {
    "collapsed": true
   },
   "outputs": [],
   "source": [
    "polarized_any_mask_map = any_grouped[polarized_columns].any(axis=1)\n",
    "polarized_all_mask_map = all_grouped[all_columns].all(axis=1)"
   ]
  },
  {
   "cell_type": "code",
   "execution_count": null,
   "metadata": {
    "collapsed": true
   },
   "outputs": [],
   "source": [
    "polarized_mask_map = polarized_any_mask_map & ~polarized_all_mask_map"
   ]
  },
  {
   "cell_type": "code",
   "execution_count": null,
   "metadata": {
    "collapsed": true
   },
   "outputs": [],
   "source": [
    "partial_polarized_df = train_df[train_df['Id'].map(polarized_mask_map)]"
   ]
  },
  {
   "cell_type": "code",
   "execution_count": null,
   "metadata": {
    "collapsed": true
   },
   "outputs": [],
   "source": [
    "partial_basic_df = train_df[train_df['Id'].map(basic_mask_map & ~polarized_any_mask_map)]"
   ]
  },
  {
   "cell_type": "code",
   "execution_count": null,
   "metadata": {
    "collapsed": true
   },
   "outputs": [],
   "source": [
    "## Drop the polarization columns\n",
    "for col in polarized_columns:\n",
    "    del partial_basic_df[col]"
   ]
  },
  {
   "cell_type": "markdown",
   "metadata": {},
   "source": [
    "### 4.2 -  Integrate the time series"
   ]
  },
  {
   "cell_type": "code",
   "execution_count": null,
   "metadata": {
    "collapsed": true
   },
   "outputs": [],
   "source": [
    "intervals(partial_basic_df)"
   ]
  },
  {
   "cell_type": "code",
   "execution_count": null,
   "metadata": {
    "collapsed": true
   },
   "outputs": [],
   "source": [
    "intervals(partial_polarized_df)"
   ]
  },
  {
   "cell_type": "code",
   "execution_count": null,
   "metadata": {
    "collapsed": true
   },
   "outputs": [],
   "source": [
    "## Complete data\n",
    "cf = {\n",
    "    'Ref' : (1.01, 1.19, 0.86),\n",
    "    'RefComposite' : (1.01, 1.15, 0.87),\n",
    "    'RhoHV' : (1.00, 1.05, 0.97)\n",
    "}\n",
    "\n",
    "## -------------------------------------------\n",
    "def complete(df, columns=[]):\n",
    "    \"\"\"\n",
    "    Completes the main variables using the distributions\n",
    "    \"\"\"\n",
    "    \n",
    "    for var in columns:\n",
    "        df[var] = cf[var][0]*df[var].fillna(value=df['{0}_5x5_50th'.format(var)])\n",
    "        df[var] = cf[var][1]*df[var].fillna(value=df['{0}_5x5_10th'.format(var)])\n",
    "        df[var] = cf[var][2]*df[var].fillna(value=df['{0}_5x5_90th'.format(var)])\n",
    "    \n",
    "        del df['{0}_5x5_10th'.format(var)]\n",
    "        del df['{0}_5x5_50th'.format(var)]\n",
    "        del df['{0}_5x5_90th'.format(var)]"
   ]
  },
  {
   "cell_type": "code",
   "execution_count": null,
   "metadata": {
    "collapsed": true
   },
   "outputs": [],
   "source": [
    "complete(partial_basic_df, ['Ref', 'RefComposite'])\n",
    "complete(partial_polarized_df, ['Ref', 'RefComposite', 'RhoHV'])"
   ]
  },
  {
   "cell_type": "code",
   "execution_count": null,
   "metadata": {
    "collapsed": true
   },
   "outputs": [],
   "source": [
    "partial_basic_df = integrated_mean(partial_basic_df, ['Ref', 'RefComposite'])\n",
    "partial_polarized_df = integrated_mean(partial_polarized_df, ['Ref', 'RefComposite', 'RhoHV', 'Zdr', 'Kdp'])"
   ]
  },
  {
   "cell_type": "code",
   "execution_count": null,
   "metadata": {
    "collapsed": false
   },
   "outputs": [],
   "source": [
    "n_partial_polarized = len(partial_polarized_df)\n",
    "n_partial_basic = len(partial_basic_df)\n",
    "print n_partial_polarized, n_partial_basic\n",
    "\n",
    "print n_polarized + n_basic + n_null + n_partial_polarized + n_partial_basic"
   ]
  },
  {
   "cell_type": "markdown",
   "metadata": {},
   "source": [
    "### 4.3 - Data cleaning"
   ]
  },
  {
   "cell_type": "code",
   "execution_count": null,
   "metadata": {
    "collapsed": true
   },
   "outputs": [],
   "source": [
    "clean_partial_basic_df = clean(partial_basic_df)\n",
    "clean_partial_polarized_df = clean(partial_polarized_df)"
   ]
  },
  {
   "cell_type": "markdown",
   "metadata": {},
   "source": [
    "### 4.4 - Train the Boosted Regression Trees (Basic)"
   ]
  },
  {
   "cell_type": "code",
   "execution_count": null,
   "metadata": {
    "collapsed": true
   },
   "outputs": [],
   "source": [
    "## Extract numpy arrays to pass to scikit-learn for training\n",
    "train_data   = clean_partial_basic_df[['radardist_km', 'Int_Ref', 'Int_RefComposite']].values\n",
    "train_target = clean_partial_basic_df['Expected'].values"
   ]
  },
  {
   "cell_type": "code",
   "execution_count": null,
   "metadata": {
    "collapsed": false
   },
   "outputs": [],
   "source": [
    "## Train the Boosted Regression trees\n",
    "partial_basic_brt = ensemble.GradientBoostingRegressor(max_depth=4, n_estimators=1000)\n",
    "partial_basic_brt.fit(train_data, train_target)"
   ]
  },
  {
   "cell_type": "code",
   "execution_count": null,
   "metadata": {
    "collapsed": true
   },
   "outputs": [],
   "source": [
    "## Define function to evaluate the BRT\n",
    "def partial_basic_predict(\n",
    "    radardist_km,\n",
    "    Ref,\n",
    "    RefComposite\n",
    "    ):\n",
    "    \n",
    "    return partial_basic_brt.predict([\n",
    "        radardist_km,\n",
    "        Ref,\n",
    "        RefComposite\n",
    "    ])[0]"
   ]
  },
  {
   "cell_type": "code",
   "execution_count": null,
   "metadata": {
    "collapsed": false
   },
   "outputs": [],
   "source": [
    "## Calculate the output\n",
    "partial_basic_df = partial_basic_df.fillna(-1111.0)\n",
    "partial_basic_df['Predicted'] = map(\n",
    "    partial_basic_predict,\n",
    "    partial_basic_df['radardist_km'],\n",
    "    partial_basic_df['Int_Ref'],\n",
    "    partial_basic_df['Int_RefComposite']\n",
    ")"
   ]
  },
  {
   "cell_type": "markdown",
   "metadata": {},
   "source": [
    "### 4.5 - Visualize and evaluate (Basic)"
   ]
  },
  {
   "cell_type": "code",
   "execution_count": null,
   "metadata": {
    "collapsed": false
   },
   "outputs": [],
   "source": [
    "sm = mytools.ScatterMatrix(partial_basic_df)\n",
    "sm.add('radardist_km', 0, 20)\n",
    "sm.add('Int_Ref', 0, 50)\n",
    "sm.add('Int_RefComposite', 0, 50)\n",
    "sm.add('Expected', 0, 20)\n",
    "sm.add('Predicted', 0, 20)\n",
    "sm.plot()"
   ]
  },
  {
   "cell_type": "code",
   "execution_count": null,
   "metadata": {
    "collapsed": false
   },
   "outputs": [],
   "source": [
    "print metrics.mean_absolute_error(partial_basic_df['Expected'].values, partial_basic_df['Predicted'].values)"
   ]
  },
  {
   "cell_type": "markdown",
   "metadata": {},
   "source": [
    "### 4.6 - Train the Boosted Regression Trees (Polarized)"
   ]
  },
  {
   "cell_type": "code",
   "execution_count": null,
   "metadata": {
    "collapsed": true
   },
   "outputs": [],
   "source": [
    "## Extract numpy arrays to pass to scikit-learn for training\n",
    "train_data   = clean_partial_polarized_df[['radardist_km', 'Int_Ref', 'Int_RefComposite', 'Int_RhoHV', 'Int_Zdr', 'Int_Kdp']].values\n",
    "train_target = clean_partial_polarized_df['Expected'].values"
   ]
  },
  {
   "cell_type": "code",
   "execution_count": null,
   "metadata": {
    "collapsed": false
   },
   "outputs": [],
   "source": [
    "## Train the Boosted Regression trees\n",
    "partial_polarized_brt = ensemble.GradientBoostingRegressor(max_depth=4, n_estimators=1000)\n",
    "partial_polarized_brt.fit(train_data, train_target)"
   ]
  },
  {
   "cell_type": "code",
   "execution_count": null,
   "metadata": {
    "collapsed": true
   },
   "outputs": [],
   "source": [
    "## Define function to evaluate the BRT\n",
    "def partial_polarized_predict(\n",
    "    radardist_km,\n",
    "    Ref,\n",
    "    RefComposite,\n",
    "    RhoHV,\n",
    "    Zdr,\n",
    "    Kdp,\n",
    "    ):\n",
    "    \n",
    "    return partial_polarized_brt.predict([\n",
    "        radardist_km,\n",
    "        Ref,\n",
    "        RefComposite,\n",
    "        RhoHV,\n",
    "        Zdr,\n",
    "        Kdp,\n",
    "    ])[0]"
   ]
  },
  {
   "cell_type": "code",
   "execution_count": null,
   "metadata": {
    "collapsed": true
   },
   "outputs": [],
   "source": [
    "## Calculate the output\n",
    "partial_polarized_df = partial_polarized_df.fillna(-1111.0)\n",
    "partial_polarized_df['Predicted'] = map(\n",
    "    partial_polarized_predict,\n",
    "    partial_polarized_df['radardist_km'],\n",
    "    partial_polarized_df['Int_Ref'],\n",
    "    partial_polarized_df['Int_RefComposite'],\n",
    "    partial_polarized_df['Int_RhoHV'],\n",
    "    partial_polarized_df['Int_Zdr'],\n",
    "    partial_polarized_df['Int_Kdp'],\n",
    ")"
   ]
  },
  {
   "cell_type": "markdown",
   "metadata": {},
   "source": [
    "### 5.7 - Visualize and evaluate (Polarized)"
   ]
  },
  {
   "cell_type": "code",
   "execution_count": null,
   "metadata": {
    "collapsed": false
   },
   "outputs": [],
   "source": [
    "sm = mytools.ScatterMatrix(partial_polarized_df)\n",
    "sm.add('radardist_km', 0, 20)\n",
    "sm.add('Int_Ref', 0, 50)\n",
    "sm.add('Int_RefComposite', 0, 50)\n",
    "sm.add('Int_RhoHV', 0.8, 1.05)\n",
    "sm.add('Int_Zdr', -2,3)\n",
    "sm.add('Int_Kdp', -10, 10)\n",
    "sm.add('Expected', 0, 10)\n",
    "sm.add('Predicted', 0, 10)\n",
    "sm.plot()"
   ]
  },
  {
   "cell_type": "code",
   "execution_count": null,
   "metadata": {
    "collapsed": false
   },
   "outputs": [],
   "source": [
    "print metrics.mean_absolute_error(partial_polarized_df['Expected'].values, partial_polarized_df['Predicted'].values)"
   ]
  },
  {
   "cell_type": "code",
   "execution_count": null,
   "metadata": {
    "collapsed": true
   },
   "outputs": [],
   "source": []
  }
 ],
 "metadata": {
  "kernelspec": {
   "display_name": "Python 2",
   "language": "python",
   "name": "python2"
  },
  "language_info": {
   "codemirror_mode": {
    "name": "ipython",
    "version": 2
   },
   "file_extension": ".py",
   "mimetype": "text/x-python",
   "name": "python",
   "nbconvert_exporter": "python",
   "pygments_lexer": "ipython2",
   "version": "2.7.10"
  }
 },
 "nbformat": 4,
 "nbformat_minor": 0
}
