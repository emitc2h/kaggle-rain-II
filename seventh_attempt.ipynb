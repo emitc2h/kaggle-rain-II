{
 "cells": [
  {
   "cell_type": "code",
   "execution_count": 1,
   "metadata": {
    "collapsed": false
   },
   "outputs": [],
   "source": [
    "## Enable matplotlib inline\n",
    "%matplotlib inline\n",
    "import matplotlib.pyplot as plt\n",
    "\n",
    "## Imports\n",
    "import pandas as pd\n",
    "pd.set_option('mode.chained_assignment',None)\n",
    "pd.set_option('display.mpl_style', 'default') \n",
    "pd.set_option('display.width', 5000) \n",
    "pd.set_option('display.max_columns', 200)\n",
    "pd.set_option('display.max_rows', 200)\n",
    "\n",
    "import numpy as np\n",
    "from sklearn import ensemble\n",
    "from sklearn import metrics\n",
    "\n",
    "import mytools"
   ]
  },
  {
   "cell_type": "code",
   "execution_count": 2,
   "metadata": {
    "collapsed": true
   },
   "outputs": [],
   "source": [
    "## Read in the training and testing datasets\n",
    "train_df = pd.read_csv('train.csv')\n",
    "test_df  = pd.read_csv('test.csv')"
   ]
  },
  {
   "cell_type": "code",
   "execution_count": 3,
   "metadata": {
    "collapsed": false
   },
   "outputs": [],
   "source": [
    "## Pass the datasets to the splitters\n",
    "train_splt = mytools.Splitter(train_df)\n",
    "test_splt  = mytools.Splitter(test_df)"
   ]
  },
  {
   "cell_type": "code",
   "execution_count": 4,
   "metadata": {
    "collapsed": false
   },
   "outputs": [],
   "source": [
    "polarized_df         = train_splt.polarized()\n",
    "basic_df             = train_splt.basic()\n",
    "null_df              = train_splt.null()\n",
    "partial_basic_df     = train_splt.partial_basic()\n",
    "partial_polarized_df = train_splt.partial_polarized()"
   ]
  },
  {
   "cell_type": "code",
   "execution_count": 5,
   "metadata": {
    "collapsed": false
   },
   "outputs": [
    {
     "name": "stdout",
     "output_type": "stream",
     "text": [
      "Polarized DF         : 1085817 (7.89%)\n",
      "Basic DF             : 160618 (1.17%)\n",
      "Null DF              : 4639872 (33.71%)\n",
      "Partial Basic DF     : 1585333 (11.52%)\n",
      "Partial Polarized DF : 6293561 (45.72%)\n",
      "Patched up DF        : 13765201 (100.00%)\n",
      "Complete DF          : 13765201\n"
     ]
    }
   ],
   "source": [
    "n_complete = len(train_df)\n",
    "\n",
    "n_polarized = len(polarized_df)\n",
    "print 'Polarized DF         :', n_polarized, '({:.2%})'.format(float(n_polarized)/n_complete)\n",
    "\n",
    "n_basic = len(basic_df)\n",
    "print 'Basic DF             :', n_basic, '({:.2%})'.format(float(n_basic)/n_complete)\n",
    "\n",
    "n_null = len(null_df)\n",
    "print 'Null DF              :', n_null, '({:.2%})'.format(float(n_null)/n_complete)\n",
    "\n",
    "n_partial_basic = len(partial_basic_df)\n",
    "print 'Partial Basic DF     :', n_partial_basic, '({:.2%})'.format(float(n_partial_basic)/n_complete)\n",
    "\n",
    "n_partial_polarized = len(partial_polarized_df)\n",
    "print 'Partial Polarized DF :', n_partial_polarized, '({:.2%})'.format(float(n_partial_polarized)/n_complete)\n",
    "\n",
    "n_all = n_polarized + n_basic + n_null + n_partial_basic + n_partial_polarized\n",
    "print 'Patched up DF        :', n_all, '({:.2%})'.format(float(n_all)/n_complete)\n",
    "\n",
    "print 'Complete DF          :', n_complete"
   ]
  },
  {
   "cell_type": "code",
   "execution_count": 6,
   "metadata": {
    "collapsed": true
   },
   "outputs": [],
   "source": [
    "## Define convenient lists of columns\n",
    "all_columns = [\n",
    "    'Ref',\n",
    "    'Ref_5x5_10th',\n",
    "    'Ref_5x5_50th',\n",
    "    'Ref_5x5_90th',\n",
    "    'RefComposite',\n",
    "    'RefComposite_5x5_10th',\n",
    "    'RefComposite_5x5_50th',\n",
    "    'RefComposite_5x5_90th',\n",
    "    'RhoHV',\n",
    "    'RhoHV_5x5_10th',\n",
    "    'RhoHV_5x5_50th',\n",
    "    'RhoHV_5x5_90th',\n",
    "    'Zdr',\n",
    "    'Zdr_5x5_10th',\n",
    "    'Zdr_5x5_50th',\n",
    "    'Zdr_5x5_90th',\n",
    "    'Kdp',\n",
    "    'Kdp_5x5_10th',\n",
    "    'Kdp_5x5_50th',\n",
    "    'Kdp_5x5_90th'\n",
    "]\n",
    "\n",
    "basic_columns = all_columns[:8]\n",
    "polarized_columns = all_columns[8:]\n",
    "\n",
    "\n",
    "## -------------------------------------------\n",
    "def intervals(df):\n",
    "    \"\"\"\n",
    "    Adds a column to the dataframe assigning a time interval for each entry\n",
    "    \"\"\"\n",
    "    \n",
    "    df['interval'] = df['minutes_past'].diff()\n",
    "    \n",
    "    ## Build two masks, to single out first and last rows of each group\n",
    "    group_begin_mask = df['Id'].diff() != 0\n",
    "    group_end_mask   = df['Id'].diff().shift(-1) != 0\n",
    "    \n",
    "    ## Patch the beginning entry of each group\n",
    "    df['interval'][group_begin_mask] = df['minutes_past'][group_begin_mask]\n",
    "    \n",
    "    ## Patch the last entry of each group\n",
    "    df['interval'][group_end_mask] = 60 + df['interval'][group_end_mask] - df['minutes_past'][group_end_mask]\n",
    "\n",
    "\n",
    "\n",
    "cf = {\n",
    "    'Ref' : (1.01, 1.19, 0.86),\n",
    "    'RefComposite' : (1.01, 1.15, 0.87),\n",
    "    'RhoHV' : (1.00, 1.05, 0.97)\n",
    "}\n",
    "\n",
    "## -------------------------------------------\n",
    "def complete(df, columns=[]):\n",
    "    \"\"\"\n",
    "    Completes the main variables using the distributions\n",
    "    \"\"\"\n",
    "    \n",
    "    for var in columns:\n",
    "        df[var] = df[var].fillna(value=cf[var][0]*df['{0}_5x5_50th'.format(var)])\n",
    "        df[var] = df[var].fillna(value=cf[var][1]*df['{0}_5x5_10th'.format(var)])\n",
    "        df[var] = df[var].fillna(value=cf[var][2]*df['{0}_5x5_90th'.format(var)])"
   ]
  },
  {
   "cell_type": "code",
   "execution_count": 7,
   "metadata": {
    "collapsed": false
   },
   "outputs": [],
   "source": [
    "## ========================================\n",
    "class Collapser:\n",
    "    \"\"\"\n",
    "    A class to collapse the time series\n",
    "    \"\"\"\n",
    "\n",
    "    ## -------------------------------------------\n",
    "    def __init__(self, integrate=[], mean=all_columns, patch=[], super_integrate=False):\n",
    "        \"\"\"\n",
    "        Constructor\n",
    "        \"\"\"\n",
    "\n",
    "        self.integrate = integrate\n",
    "        self.super_integrate = super_integrate\n",
    "        self.mean = list(set(mean).difference(set(integrate)))\n",
    "        self.patch = patch\n",
    "\n",
    "\n",
    "    ## -------------------------------------------\n",
    "    def collapse(self, df):\n",
    "        \"\"\"\n",
    "        Collapse the time series for a dataset given the rules\n",
    "        specified in the constructor\n",
    "        \"\"\"\n",
    "\n",
    "        intervals(df)\n",
    "        complete(df, self.patch)\n",
    "\n",
    "        int_columns = []\n",
    "        \n",
    "        ## Multiply the quantities by the time intervals\n",
    "        for var in self.integrate:\n",
    "            name = 'Int_{0}'.format(var)\n",
    "            df[name] = df['interval'] * df[var]\n",
    "            int_columns.append(name)\n",
    "            \n",
    "        ## Different values need to be grouped in different ways\n",
    "        try:\n",
    "            expected  = df[['Id', 'Expected', 'radardist_km'] + self.mean]\n",
    "        except KeyError:\n",
    "            expected  = df[['Id', 'radardist_km'] + self.mean]\n",
    "            \n",
    "        expected  = expected.groupby('Id', as_index=False).mean()\n",
    "    \n",
    "        variables = df[['Id'] + int_columns]\n",
    "        variables = variables.groupby('Id', as_index=False).sum()\n",
    "        \n",
    "        if self.super_integrate:\n",
    "            if 'Ref' in self.integrate:\n",
    "                variables['Int_Ref'] = variables['Int_Ref'] + \\\n",
    "                variables['Int_Ref_5x5_10th'] + \\\n",
    "                variables['Int_Ref_5x5_50th'] + \\\n",
    "                variables['Int_Ref_5x5_90th']\n",
    "                \n",
    "            if 'RefComposite' in self.integrate:\n",
    "                variables['Int_RefComposite'] = variables['Int_Ref'] + \\\n",
    "                variables['Int_RefComposite_5x5_10th'] + \\\n",
    "                variables['Int_RefComposite_5x5_50th'] + \\\n",
    "                variables['Int_RefComposite_5x5_90th']\n",
    "                \n",
    "            if 'RhoHV' in self.integrate:\n",
    "                variables['Int_RhoHV'] = variables['Int_Ref'] + \\\n",
    "                variables['Int_RhoHV_5x5_10th'] + \\\n",
    "                variables['Int_RhoHV_5x5_50th'] + \\\n",
    "                variables['Int_RhoHV_5x5_90th']\n",
    "                \n",
    "            if 'Zdr' in self.integrate:\n",
    "                variables['Int_Zdr'] = variables['Int_Ref'] + \\\n",
    "                variables['Int_Zdr_5x5_10th'] + \\\n",
    "                variables['Int_Zdr_5x5_50th'] + \\\n",
    "                variables['Int_Zdr_5x5_90th']\n",
    "                \n",
    "            if 'Kdp' in self.integrate:\n",
    "                variables['Int_Kdp'] = variables['Int_Ref'] + \\\n",
    "                variables['Int_Kdp_5x5_10th'] + \\\n",
    "                variables['Int_Kdp_5x5_50th'] + \\\n",
    "                variables['Int_Kdp_5x5_90th']\n",
    "        \n",
    "        ## transform the integrated values into average values\n",
    "        for var in int_columns:\n",
    "            if self.super_integrate:\n",
    "                variables[var] = variables[var]/240.0\n",
    "            else:\n",
    "                variables[var] = variables[var]/60.0\n",
    "            \n",
    "        ## Rename columns to what they are supposed to be\n",
    "        renamer = {}\n",
    "        for original, int_name in zip(self.integrate, int_columns):\n",
    "            renamer[int_name] = original\n",
    "            \n",
    "        variables.rename(columns=renamer, inplace=True)\n",
    "            \n",
    "            \n",
    "        ## Merge back expected and variables\n",
    "        return pd.merge(variables, expected, on='Id')"
   ]
  },
  {
   "cell_type": "code",
   "execution_count": 8,
   "metadata": {
    "collapsed": true
   },
   "outputs": [],
   "source": [
    "## ========================================\n",
    "class BRTTrainer:\n",
    "    \"\"\"\n",
    "    A class to train a Boosted Regression Trees\n",
    "    \"\"\"\n",
    "\n",
    "    ## --------------------------------------------\n",
    "    def __init__(self, train_df, variables=all_columns, max_depth=None, n_estimators=10, max_features=None, rf=True):\n",
    "        \"\"\"\n",
    "        Constructor\n",
    "        \"\"\"\n",
    "\n",
    "        self.train_df = train_df\n",
    "        self.brt = None\n",
    "        self.rf = rf\n",
    "        self.variables = variables\n",
    "        self.max_depth = max_depth\n",
    "        self.n_estimators = n_estimators\n",
    "        self.max_features = max_features\n",
    "\n",
    "\n",
    "    ## --------------------------------------------\n",
    "    def train(self, clean=False, stuck_repeat=50, max_expected=100.0):\n",
    "        \"\"\"\n",
    "        train the BRT\n",
    "        \"\"\"\n",
    "\n",
    "        clean_df = self.train_df.fillna(-1111.0)\n",
    "\n",
    "        if clean:\n",
    "            clean_df = mytools.clean_stuck_gauges(clean_df, threshold=stuck_repeat)\n",
    "            clean_df = clean_df[clean_df['Expected'] < max_expected]\n",
    "\n",
    "        ## Extract numpy arrays to pass to scikit-learn for training\n",
    "        train_data   = clean_df[['radardist_km'] + self.variables].values\n",
    "        train_target = clean_df['Expected'].values\n",
    "\n",
    "        ## Train the Boosted Regression trees\n",
    "        if self.rf:\n",
    "            self.brt = ensemble.RandomForestRegressor(max_depth=self.max_depth, n_estimators=self.n_estimators, random_state=24)\n",
    "        else:\n",
    "            self.brt = ensemble.GradientBoostingRegressor(max_depth=self.max_depth, n_estimators=self.n_estimators, max_features=self.max_features, random_state=24)\n",
    "        self.brt.fit(train_data, train_target)\n",
    "\n",
    "\n",
    "    ## ---------------------------------------------\n",
    "    def predict(self, *args):\n",
    "        \"\"\"\n",
    "        produce prediction\n",
    "        \"\"\"\n",
    "\n",
    "        return self.brt.predict(args)[0]\n",
    "\n",
    "\n",
    "    ## ---------------------------------------------\n",
    "    def apply(self, df):\n",
    "        \"\"\"\n",
    "        create a new prediction column for a dataset\n",
    "        \"\"\"\n",
    "\n",
    "        clean_df = df.fillna(-1111.0)\n",
    "        \n",
    "        columns = [clean_df['radardist_km']]\n",
    "        for var in self.variables:\n",
    "            columns.append(clean_df[var])\n",
    "\n",
    "        df['Prediction'] = map(self.predict, *columns)\n",
    "        \n",
    "        \n",
    "    ## ---------------------------------------------\n",
    "    def evaluate(self, df):\n",
    "        \"\"\"\n",
    "        evaluate the performance of the predictions\n",
    "        \"\"\"\n",
    "        \n",
    "        return metrics.mean_absolute_error(df['Expected'].values, df['Prediction'].values)"
   ]
  },
  {
   "cell_type": "code",
   "execution_count": 9,
   "metadata": {
    "collapsed": true
   },
   "outputs": [],
   "source": [
    "## ---------------------------------------------\n",
    "def find_min_di(test_df, trainer):\n",
    "    \"\"\"\n",
    "    Finds the best score shift\n",
    "    \"\"\"\n",
    "    min_score = 10000000.0\n",
    "    min_di    = None\n",
    "\n",
    "    for di in [0.001*i for i in range(1001)]:\n",
    "        test_df['backup'] = test_df['Prediction']\n",
    "        test_df['Prediction'] = test_df['Prediction'] - di\n",
    "        score = trainer.evaluate(test_df)\n",
    "        if score < min_score:\n",
    "            min_score = score\n",
    "            min_di = di\n",
    "        test_df['Prediction'] = test_df['backup']\n",
    "    \n",
    "    return min_score, min_di"
   ]
  },
  {
   "cell_type": "code",
   "execution_count": 10,
   "metadata": {
    "collapsed": true
   },
   "outputs": [],
   "source": [
    "def correlation_plot(df, var1, var2, bounds = None):\n",
    "    \"\"\"\n",
    "    produces a 2D histogram for a pair of variables\n",
    "    \"\"\"\n",
    "\n",
    "    df_var1_nonan = df[~df[var1].isnull()]\n",
    "    df_var2_nonan = df_var1_nonan[~df_var1_nonan[var2].isnull()]\n",
    "    \n",
    "    x = df_var2_nonan[var1].values\n",
    "    y = df_var2_nonan[var2].values\n",
    "\n",
    "    if bounds is None:\n",
    "        xmin = x.min()\n",
    "        xmax = x.max()\n",
    "        ymin = y.min()\n",
    "        ymax = y.max()\n",
    "    else:\n",
    "        \n",
    "        (xmin, xmax, ymin, ymax) = bounds\n",
    "\n",
    "    fig, ax = plt.subplots()\n",
    "\n",
    "    ax.set_xlabel(var1)\n",
    "    ax.set_ylabel(var2)\n",
    "\n",
    "    plt.hist2d(x, y, cmap=plt.cm.YlOrRd_r, bins=[40,40], range=((xmin, xmax),(ymin, ymax)))\n",
    "    plt.axis([xmin, xmax, ymin, ymax])\n",
    "\n",
    "    return plt"
   ]
  },
  {
   "cell_type": "markdown",
   "metadata": {},
   "source": [
    "# 1 - Polarized DF"
   ]
  },
  {
   "cell_type": "code",
   "execution_count": 11,
   "metadata": {
    "collapsed": true
   },
   "outputs": [],
   "source": [
    "polarized_collapser = Collapser(integrate=basic_columns, super_integrate=True)"
   ]
  },
  {
   "cell_type": "code",
   "execution_count": 12,
   "metadata": {
    "collapsed": false
   },
   "outputs": [],
   "source": [
    "polarized_collapsed_df = polarized_collapser.collapse(polarized_df)"
   ]
  },
  {
   "cell_type": "code",
   "execution_count": 13,
   "metadata": {
    "collapsed": true
   },
   "outputs": [],
   "source": [
    "split = len(polarized_collapsed_df)/2\n",
    "train = polarized_collapsed_df[:split]\n",
    "test  = polarized_collapsed_df[split:]"
   ]
  },
  {
   "cell_type": "code",
   "execution_count": 14,
   "metadata": {
    "collapsed": false
   },
   "outputs": [],
   "source": [
    "polarized_trainer = BRTTrainer(train, variables=all_columns, max_depth=3, n_estimators=200, rf=False)\n",
    "polarized_trainer.train(clean=True, stuck_repeat=10, max_expected=20.0)"
   ]
  },
  {
   "cell_type": "code",
   "execution_count": 15,
   "metadata": {
    "collapsed": false
   },
   "outputs": [
    {
     "data": {
      "text/plain": [
       "10.146449621934311"
      ]
     },
     "execution_count": 15,
     "metadata": {},
     "output_type": "execute_result"
    }
   ],
   "source": [
    "polarized_trainer.apply(test)\n",
    "polarized_trainer.evaluate(test)"
   ]
  },
  {
   "cell_type": "code",
   "execution_count": 16,
   "metadata": {
    "collapsed": false
   },
   "outputs": [
    {
     "name": "stdout",
     "output_type": "stream",
     "text": [
      "10.1072473288 0.439\n"
     ]
    }
   ],
   "source": [
    "min_score, min_di = find_min_di(test, polarized_trainer)\n",
    "print min_score, min_di"
   ]
  },
  {
   "cell_type": "code",
   "execution_count": 17,
   "metadata": {
    "collapsed": false
   },
   "outputs": [
    {
     "data": {
      "image/png": "[encoded data removed]",
      "text/plain": [
       "<matplotlib.figure.Figure at 0x114e6e490>"
      ]
     },
     "metadata": {},
     "output_type": "display_data"
    },
    {
     "name": "stdout",
     "output_type": "stream",
     "text": [
      "0.228008315135\n"
     ]
    }
   ],
   "source": [
    "resolution = (test['Prediction'] - test['Expected'])/test['Expected']\n",
    "hist, bins = np.histogram(resolution, bins=51, range=(-10,10))\n",
    "width = (bins[1] - bins[0])\n",
    "center = (bins[:-1] + bins[1:]) / 2\n",
    "plt.bar(center, hist, align='center', width=width)\n",
    "plt.show()\n",
    "print resolution.median()"
   ]
  },
  {
   "cell_type": "code",
   "execution_count": 18,
   "metadata": {
    "collapsed": true
   },
   "outputs": [],
   "source": [
    "test['Prediction'] = test['Prediction'] - min_di"
   ]
  },
  {
   "cell_type": "code",
   "execution_count": 19,
   "metadata": {
    "collapsed": false
   },
   "outputs": [
    {
     "data": {
      "image/png": "[encoded data removed]",
      "text/plain": [
       "<matplotlib.figure.Figure at 0x13960fad0>"
      ]
     },
     "metadata": {},
     "output_type": "display_data"
    },
    {
     "name": "stdout",
     "output_type": "stream",
     "text": [
      "-0.00033836225406\n"
     ]
    }
   ],
   "source": [
    "resolution = (test['Prediction'] - test['Expected'])/test['Expected']\n",
    "hist, bins = np.histogram(resolution, bins=51, range=(-10,10))\n",
    "width = (bins[1] - bins[0])\n",
    "center = (bins[:-1] + bins[1:]) / 2\n",
    "plt.bar(center, hist, align='center', width=width)\n",
    "plt.show()\n",
    "print resolution.median()"
   ]
  },
  {
   "cell_type": "code",
   "execution_count": 20,
   "metadata": {
    "collapsed": false
   },
   "outputs": [
    {
     "data": {
      "text/plain": [
       "<module 'matplotlib.pyplot' from '/usr/local/lib/python2.7/site-packages/matplotlib/pyplot.pyc'>"
      ]
     },
     "execution_count": 20,
     "metadata": {},
     "output_type": "execute_result"
    },
    {
     "data": {
      "image/png": "[encoded data removed]",
      "text/plain": [
       "<matplotlib.figure.Figure at 0x114e55510>"
      ]
     },
     "metadata": {},
     "output_type": "display_data"
    }
   ],
   "source": [
    "correlation_plot(test, 'Prediction', 'Expected', bounds = (0,10,0,10))"
   ]
  },
  {
   "cell_type": "code",
   "execution_count": 21,
   "metadata": {
    "collapsed": true
   },
   "outputs": [],
   "source": [
    "polarized_trainer = BRTTrainer(polarized_collapsed_df, variables=all_columns, max_depth=3, n_estimators=200, rf=False)\n",
    "polarized_trainer.train(clean=True, stuck_repeat=10, max_expected=20.0)"
   ]
  },
  {
   "cell_type": "code",
   "execution_count": 22,
   "metadata": {
    "collapsed": false
   },
   "outputs": [],
   "source": [
    "test_polarized_collapsed_df = polarized_collapser.collapse(test_splt.polarized())"
   ]
  },
  {
   "cell_type": "code",
   "execution_count": 23,
   "metadata": {
    "collapsed": true
   },
   "outputs": [],
   "source": [
    "polarized_trainer.apply(test_polarized_collapsed_df)\n",
    "test_polarized_collapsed_df['Prediction'] = test_polarized_collapsed_df['Prediction'] - min_di"
   ]
  },
  {
   "cell_type": "markdown",
   "metadata": {},
   "source": [
    "# 2 - Basic DF"
   ]
  },
  {
   "cell_type": "code",
   "execution_count": 24,
   "metadata": {
    "collapsed": true
   },
   "outputs": [],
   "source": [
    "basic_collapser = Collapser(integrate=basic_columns, super_integrate=True)"
   ]
  },
  {
   "cell_type": "code",
   "execution_count": 25,
   "metadata": {
    "collapsed": true
   },
   "outputs": [],
   "source": [
    "basic_collapsed_df = basic_collapser.collapse(basic_df)"
   ]
  },
  {
   "cell_type": "code",
   "execution_count": 26,
   "metadata": {
    "collapsed": false
   },
   "outputs": [],
   "source": [
    "split = len(basic_collapsed_df)/2\n",
    "train = basic_collapsed_df[:split]\n",
    "test  = basic_collapsed_df[split:]"
   ]
  },
  {
   "cell_type": "code",
   "execution_count": 27,
   "metadata": {
    "collapsed": false
   },
   "outputs": [],
   "source": [
    "basic_trainer = BRTTrainer(train, variables=basic_columns, max_depth=3, n_estimators=100, rf=False)\n",
    "basic_trainer.train(clean=True, stuck_repeat=10, max_expected=30.0)"
   ]
  },
  {
   "cell_type": "code",
   "execution_count": 28,
   "metadata": {
    "collapsed": false
   },
   "outputs": [
    {
     "data": {
      "text/plain": [
       "15.419431051322885"
      ]
     },
     "execution_count": 28,
     "metadata": {},
     "output_type": "execute_result"
    }
   ],
   "source": [
    "basic_trainer.apply(test)\n",
    "basic_trainer.evaluate(test)"
   ]
  },
  {
   "cell_type": "code",
   "execution_count": 29,
   "metadata": {
    "collapsed": false
   },
   "outputs": [
    {
     "name": "stdout",
     "output_type": "stream",
     "text": [
      "15.3890832465 0.488\n"
     ]
    }
   ],
   "source": [
    "min_score, min_di = find_min_di(test, basic_trainer)\n",
    "print min_score, min_di"
   ]
  },
  {
   "cell_type": "code",
   "execution_count": 30,
   "metadata": {
    "collapsed": false
   },
   "outputs": [
    {
     "data": {
      "image/png": "[encoded data removed]",
      "text/plain": [
       "<matplotlib.figure.Figure at 0x13960fb90>"
      ]
     },
     "metadata": {},
     "output_type": "display_data"
    },
    {
     "name": "stdout",
     "output_type": "stream",
     "text": [
      "0.247590693819\n"
     ]
    }
   ],
   "source": [
    "resolution = (test['Prediction'] - test['Expected'])/test['Expected']\n",
    "hist, bins = np.histogram(resolution, bins=51, range=(-10,10))\n",
    "width = (bins[1] - bins[0])\n",
    "center = (bins[:-1] + bins[1:]) / 2\n",
    "plt.bar(center, hist, align='center', width=width)\n",
    "plt.show()\n",
    "print resolution.median()"
   ]
  },
  {
   "cell_type": "code",
   "execution_count": 31,
   "metadata": {
    "collapsed": true
   },
   "outputs": [],
   "source": [
    "test['Prediction'] = test['Prediction'] - min_di"
   ]
  },
  {
   "cell_type": "code",
   "execution_count": 32,
   "metadata": {
    "collapsed": false
   },
   "outputs": [
    {
     "data": {
      "image/png": "[encoded data removed]",
      "text/plain": [
       "<matplotlib.figure.Figure at 0x1144d0850>"
      ]
     },
     "metadata": {},
     "output_type": "display_data"
    },
    {
     "name": "stdout",
     "output_type": "stream",
     "text": [
      "2.83027041625e-05\n"
     ]
    }
   ],
   "source": [
    "resolution = (test['Prediction'] - test['Expected'])/test['Expected']\n",
    "hist, bins = np.histogram(resolution, bins=51, range=(-10,10))\n",
    "width = (bins[1] - bins[0])\n",
    "center = (bins[:-1] + bins[1:]) / 2\n",
    "plt.bar(center, hist, align='center', width=width)\n",
    "plt.show()\n",
    "print resolution.median()"
   ]
  },
  {
   "cell_type": "code",
   "execution_count": 33,
   "metadata": {
    "collapsed": false
   },
   "outputs": [
    {
     "data": {
      "text/plain": [
       "<module 'matplotlib.pyplot' from '/usr/local/lib/python2.7/site-packages/matplotlib/pyplot.pyc'>"
      ]
     },
     "execution_count": 33,
     "metadata": {},
     "output_type": "execute_result"
    },
    {
     "data": {
      "image/png": "[encoded data removed]",
      "text/plain": [
       "<matplotlib.figure.Figure at 0x111c70450>"
      ]
     },
     "metadata": {},
     "output_type": "display_data"
    }
   ],
   "source": [
    "correlation_plot(test, 'Prediction', 'Expected', bounds = (0,10,0,10))"
   ]
  },
  {
   "cell_type": "code",
   "execution_count": 34,
   "metadata": {
    "collapsed": true
   },
   "outputs": [],
   "source": [
    "basic_trainer = BRTTrainer(basic_collapsed_df, variables=basic_columns, max_depth=3, n_estimators=100, rf=False)\n",
    "basic_trainer.train(clean=True, stuck_repeat=10, max_expected=30.0)"
   ]
  },
  {
   "cell_type": "code",
   "execution_count": 35,
   "metadata": {
    "collapsed": true
   },
   "outputs": [],
   "source": [
    "test_basic_collapsed_df = basic_collapser.collapse(test_splt.basic())"
   ]
  },
  {
   "cell_type": "code",
   "execution_count": 36,
   "metadata": {
    "collapsed": true
   },
   "outputs": [],
   "source": [
    "basic_trainer.apply(test_basic_collapsed_df)\n",
    "test_basic_collapsed_df['Prediction'] = test_basic_collapsed_df['Prediction'] - min_di"
   ]
  },
  {
   "cell_type": "markdown",
   "metadata": {},
   "source": [
    "# 3 - Null DF"
   ]
  },
  {
   "cell_type": "code",
   "execution_count": 37,
   "metadata": {
    "collapsed": true
   },
   "outputs": [],
   "source": [
    "null_collapser = Collapser()\n",
    "null_collapsed_df = null_collapser.collapse(null_df)"
   ]
  },
  {
   "cell_type": "code",
   "execution_count": 38,
   "metadata": {
    "collapsed": true
   },
   "outputs": [],
   "source": [
    "split = len(null_collapsed_df)/2\n",
    "train = null_collapsed_df[:split]\n",
    "test  = null_collapsed_df[split:]"
   ]
  },
  {
   "cell_type": "code",
   "execution_count": 39,
   "metadata": {
    "collapsed": true
   },
   "outputs": [],
   "source": [
    "test['Prediction'] = train['Expected'].median()"
   ]
  },
  {
   "cell_type": "code",
   "execution_count": 40,
   "metadata": {
    "collapsed": false
   },
   "outputs": [
    {
     "data": {
      "text/plain": [
       "304.61961855912733"
      ]
     },
     "execution_count": 40,
     "metadata": {},
     "output_type": "execute_result"
    }
   ],
   "source": [
    "basic_trainer.evaluate(test)"
   ]
  },
  {
   "cell_type": "code",
   "execution_count": 41,
   "metadata": {
    "collapsed": true
   },
   "outputs": [],
   "source": [
    "test_null_collapsed_df = null_collapser.collapse(test_splt.null())\n",
    "test_null_collapsed_df['Prediction'] = null_collapsed_df['Expected'].median()"
   ]
  },
  {
   "cell_type": "markdown",
   "metadata": {},
   "source": [
    "# 4 - Partial Polarized DF"
   ]
  },
  {
   "cell_type": "code",
   "execution_count": 42,
   "metadata": {
    "collapsed": false
   },
   "outputs": [],
   "source": [
    "partial_polarized_collapser = Collapser(patch=['Ref', 'RefComposite'])"
   ]
  },
  {
   "cell_type": "code",
   "execution_count": 43,
   "metadata": {
    "collapsed": false
   },
   "outputs": [],
   "source": [
    "partial_polarized_collapsed_df = partial_polarized_collapser.collapse(partial_polarized_df)"
   ]
  },
  {
   "cell_type": "code",
   "execution_count": 44,
   "metadata": {
    "collapsed": false
   },
   "outputs": [],
   "source": [
    "split = len(partial_polarized_collapsed_df)/2\n",
    "train = partial_polarized_collapsed_df[:split]\n",
    "test  = partial_polarized_collapsed_df[split:]"
   ]
  },
  {
   "cell_type": "code",
   "execution_count": 45,
   "metadata": {
    "collapsed": false,
    "scrolled": false
   },
   "outputs": [],
   "source": [
    "partial_polarized_trainer = BRTTrainer(train, variables=all_columns, max_depth=3, n_estimators=300, rf=False)\n",
    "partial_polarized_trainer.train(clean=True, stuck_repeat=100, max_expected=20.0)"
   ]
  },
  {
   "cell_type": "code",
   "execution_count": 46,
   "metadata": {
    "collapsed": false
   },
   "outputs": [
    {
     "data": {
      "text/plain": [
       "20.596967694324004"
      ]
     },
     "execution_count": 46,
     "metadata": {},
     "output_type": "execute_result"
    }
   ],
   "source": [
    "partial_polarized_trainer.apply(test)\n",
    "partial_polarized_trainer.evaluate(test)"
   ]
  },
  {
   "cell_type": "code",
   "execution_count": 47,
   "metadata": {
    "collapsed": false
   },
   "outputs": [
    {
     "name": "stdout",
     "output_type": "stream",
     "text": [
      "20.513794364 0.491\n"
     ]
    }
   ],
   "source": [
    "min_score, min_di = find_min_di(test, basic_trainer)\n",
    "print min_score, min_di"
   ]
  },
  {
   "cell_type": "code",
   "execution_count": 48,
   "metadata": {
    "collapsed": false
   },
   "outputs": [
    {
     "data": {
      "image/png": "[encoded data removed]",
      "text/plain": [
       "<matplotlib.figure.Figure at 0x1add7db10>"
      ]
     },
     "metadata": {},
     "output_type": "display_data"
    },
    {
     "name": "stdout",
     "output_type": "stream",
     "text": [
      "0.606682487478\n"
     ]
    }
   ],
   "source": [
    "resolution = (test['Prediction'] - test['Expected'])/test['Expected']\n",
    "hist, bins = np.histogram(resolution, bins=51, range=(-10,10))\n",
    "width = (bins[1] - bins[0])\n",
    "center = (bins[:-1] + bins[1:]) / 2\n",
    "plt.bar(center, hist, align='center', width=width)\n",
    "plt.show()\n",
    "print resolution.median()"
   ]
  },
  {
   "cell_type": "code",
   "execution_count": 49,
   "metadata": {
    "collapsed": true
   },
   "outputs": [],
   "source": [
    "test['Prediction'] = test['Prediction'] - min_di"
   ]
  },
  {
   "cell_type": "code",
   "execution_count": 50,
   "metadata": {
    "collapsed": false
   },
   "outputs": [
    {
     "data": {
      "image/png": "[encoded data removed]",
      "text/plain": [
       "<matplotlib.figure.Figure at 0x1add4b6d0>"
      ]
     },
     "metadata": {},
     "output_type": "display_data"
    },
    {
     "name": "stdout",
     "output_type": "stream",
     "text": [
      "3.66393848519e-06\n"
     ]
    }
   ],
   "source": [
    "resolution = (test['Prediction'] - test['Expected'])/test['Expected']\n",
    "hist, bins = np.histogram(resolution, bins=51, range=(-10,10))\n",
    "width = (bins[1] - bins[0])\n",
    "center = (bins[:-1] + bins[1:]) / 2\n",
    "plt.bar(center, hist, align='center', width=width)\n",
    "plt.show()\n",
    "print resolution.median()"
   ]
  },
  {
   "cell_type": "code",
   "execution_count": 51,
   "metadata": {
    "collapsed": false
   },
   "outputs": [
    {
     "data": {
      "text/plain": [
       "<module 'matplotlib.pyplot' from '/usr/local/lib/python2.7/site-packages/matplotlib/pyplot.pyc'>"
      ]
     },
     "execution_count": 51,
     "metadata": {},
     "output_type": "execute_result"
    },
    {
     "data": {
      "image/png": "[encoded data removed]",
      "text/plain": [
       "<matplotlib.figure.Figure at 0x114e6efd0>"
      ]
     },
     "metadata": {},
     "output_type": "display_data"
    }
   ],
   "source": [
    "correlation_plot(test, 'Prediction', 'Expected', bounds = (0,10,0,10))"
   ]
  },
  {
   "cell_type": "code",
   "execution_count": 52,
   "metadata": {
    "collapsed": true
   },
   "outputs": [],
   "source": [
    "partial_polarized_trainer = BRTTrainer(partial_polarized_collapsed_df, variables=all_columns, max_depth=3, n_estimators=300, rf=False)\n",
    "partial_polarized_trainer.train(clean=True, stuck_repeat=100, max_expected=20.0)"
   ]
  },
  {
   "cell_type": "code",
   "execution_count": 53,
   "metadata": {
    "collapsed": false
   },
   "outputs": [],
   "source": [
    "test_partial_polarized_collapsed_df = partial_polarized_collapser.collapse(test_splt.partial_polarized())"
   ]
  },
  {
   "cell_type": "code",
   "execution_count": 54,
   "metadata": {
    "collapsed": false
   },
   "outputs": [],
   "source": [
    "partial_polarized_trainer.apply(test_partial_polarized_collapsed_df)\n",
    "test_partial_polarized_collapsed_df['Prediction'] = test_partial_polarized_collapsed_df['Prediction'] - min_di"
   ]
  },
  {
   "cell_type": "markdown",
   "metadata": {},
   "source": [
    "# 5 - Partial Basic DF"
   ]
  },
  {
   "cell_type": "code",
   "execution_count": 55,
   "metadata": {
    "collapsed": true
   },
   "outputs": [],
   "source": [
    "partial_basic_collapser = Collapser(patch=['RefComposite'])"
   ]
  },
  {
   "cell_type": "code",
   "execution_count": 56,
   "metadata": {
    "collapsed": false
   },
   "outputs": [],
   "source": [
    "partial_basic_collapsed_df = partial_basic_collapser.collapse(partial_basic_df)"
   ]
  },
  {
   "cell_type": "code",
   "execution_count": 57,
   "metadata": {
    "collapsed": true
   },
   "outputs": [],
   "source": [
    "split = len(partial_basic_collapsed_df)/2\n",
    "train = partial_basic_collapsed_df[:split]\n",
    "test  = partial_basic_collapsed_df[split:]"
   ]
  },
  {
   "cell_type": "code",
   "execution_count": 58,
   "metadata": {
    "collapsed": false
   },
   "outputs": [],
   "source": [
    "partial_basic_trainer = BRTTrainer(train, variables=basic_columns, max_depth=3, n_estimators=300, rf=False)\n",
    "partial_basic_trainer.train(clean=True, stuck_repeat=50, max_expected=20.0)"
   ]
  },
  {
   "cell_type": "code",
   "execution_count": 59,
   "metadata": {
    "collapsed": false
   },
   "outputs": [
    {
     "data": {
      "text/plain": [
       "43.609755532604261"
      ]
     },
     "execution_count": 59,
     "metadata": {},
     "output_type": "execute_result"
    }
   ],
   "source": [
    "partial_basic_trainer.apply(test)\n",
    "partial_basic_trainer.evaluate(test)"
   ]
  },
  {
   "cell_type": "code",
   "execution_count": 60,
   "metadata": {
    "collapsed": false
   },
   "outputs": [
    {
     "name": "stdout",
     "output_type": "stream",
     "text": [
      "43.5434734066 0.512\n"
     ]
    }
   ],
   "source": [
    "min_score, min_di = find_min_di(test, basic_trainer)\n",
    "print min_score, min_di"
   ]
  },
  {
   "cell_type": "code",
   "execution_count": 61,
   "metadata": {
    "collapsed": false
   },
   "outputs": [
    {
     "data": {
      "image/png": "[encoded data removed]",
      "text/plain": [
       "<matplotlib.figure.Figure at 0x1add4b790>"
      ]
     },
     "metadata": {},
     "output_type": "display_data"
    },
    {
     "name": "stdout",
     "output_type": "stream",
     "text": [
      "0.549102777589\n"
     ]
    }
   ],
   "source": [
    "resolution = (test['Prediction'] - test['Expected'])/test['Expected']\n",
    "hist, bins = np.histogram(resolution, bins=51, range=(-10,10))\n",
    "width = (bins[1] - bins[0])\n",
    "center = (bins[:-1] + bins[1:]) / 2\n",
    "plt.bar(center, hist, align='center', width=width)\n",
    "plt.show()\n",
    "print resolution.median()"
   ]
  },
  {
   "cell_type": "code",
   "execution_count": 62,
   "metadata": {
    "collapsed": true
   },
   "outputs": [],
   "source": [
    "test['Prediction'] = test['Prediction'] - min_di"
   ]
  },
  {
   "cell_type": "code",
   "execution_count": 63,
   "metadata": {
    "collapsed": false
   },
   "outputs": [
    {
     "data": {
      "image/png": "[encoded data removed]",
      "text/plain": [
       "<matplotlib.figure.Figure at 0x111c8bd50>"
      ]
     },
     "metadata": {},
     "output_type": "display_data"
    },
    {
     "name": "stdout",
     "output_type": "stream",
     "text": [
      "0.000710843096694\n"
     ]
    }
   ],
   "source": [
    "resolution = (test['Prediction'] - test['Expected'])/test['Expected']\n",
    "hist, bins = np.histogram(resolution, bins=51, range=(-10,10))\n",
    "width = (bins[1] - bins[0])\n",
    "center = (bins[:-1] + bins[1:]) / 2\n",
    "plt.bar(center, hist, align='center', width=width)\n",
    "plt.show()\n",
    "print resolution.median()"
   ]
  },
  {
   "cell_type": "code",
   "execution_count": 64,
   "metadata": {
    "collapsed": false
   },
   "outputs": [
    {
     "data": {
      "text/plain": [
       "<module 'matplotlib.pyplot' from '/usr/local/lib/python2.7/site-packages/matplotlib/pyplot.pyc'>"
      ]
     },
     "execution_count": 64,
     "metadata": {},
     "output_type": "execute_result"
    },
    {
     "data": {
      "image/png": "[encoded data removed]",
      "text/plain": [
       "<matplotlib.figure.Figure at 0x114b99c10>"
      ]
     },
     "metadata": {},
     "output_type": "display_data"
    }
   ],
   "source": [
    "correlation_plot(test, 'Prediction', 'Expected', bounds = (0,10,0,10))"
   ]
  },
  {
   "cell_type": "code",
   "execution_count": 65,
   "metadata": {
    "collapsed": true
   },
   "outputs": [],
   "source": [
    "partial_basic_trainer = BRTTrainer(partial_basic_collapsed_df, variables=basic_columns, max_depth=3, n_estimators=300, rf=False)\n",
    "partial_basic_trainer.train(clean=True, stuck_repeat=50, max_expected=20.0)"
   ]
  },
  {
   "cell_type": "code",
   "execution_count": 66,
   "metadata": {
    "collapsed": true
   },
   "outputs": [],
   "source": [
    "test_partial_basic_collapsed_df = partial_basic_collapser.collapse(test_splt.partial_basic())"
   ]
  },
  {
   "cell_type": "code",
   "execution_count": 67,
   "metadata": {
    "collapsed": true
   },
   "outputs": [],
   "source": [
    "partial_basic_trainer.apply(test_partial_basic_collapsed_df)\n",
    "test_partial_basic_collapsed_df['Prediction'] = test_partial_basic_collapsed_df['Prediction'] - min_di"
   ]
  },
  {
   "cell_type": "markdown",
   "metadata": {},
   "source": [
    "# 6 - Putting it all together"
   ]
  },
  {
   "cell_type": "code",
   "execution_count": 68,
   "metadata": {
    "collapsed": false
   },
   "outputs": [],
   "source": [
    "test_dfs = [\n",
    "    test_polarized_collapsed_df,\n",
    "    test_basic_collapsed_df,\n",
    "    test_null_collapsed_df,\n",
    "    test_partial_polarized_collapsed_df,\n",
    "    test_partial_basic_collapsed_df\n",
    "]\n",
    "\n",
    "test_with_predictions = pd.concat(test_dfs)"
   ]
  },
  {
   "cell_type": "code",
   "execution_count": 69,
   "metadata": {
    "collapsed": false
   },
   "outputs": [
    {
     "data": {
      "text/plain": [
       "717625"
      ]
     },
     "execution_count": 69,
     "metadata": {},
     "output_type": "execute_result"
    }
   ],
   "source": [
    "len(test_with_predictions)"
   ]
  },
  {
   "cell_type": "code",
   "execution_count": 70,
   "metadata": {
    "collapsed": false
   },
   "outputs": [],
   "source": [
    "test_with_predictions.sort_values(by=['Id'], inplace=True)"
   ]
  },
  {
   "cell_type": "code",
   "execution_count": 71,
   "metadata": {
    "collapsed": false
   },
   "outputs": [],
   "source": [
    "test_with_predictions.rename(columns={'Prediction' : 'Expected'}, inplace=True)"
   ]
  },
  {
   "cell_type": "code",
   "execution_count": 72,
   "metadata": {
    "collapsed": true
   },
   "outputs": [],
   "source": [
    "test_with_predictions[['Id', 'Expected']].to_csv('predictions13.csv', index=False)"
   ]
  },
  {
   "cell_type": "code",
   "execution_count": null,
   "metadata": {
    "collapsed": true
   },
   "outputs": [],
   "source": []
  }
 ],
 "metadata": {
  "kernelspec": {
   "display_name": "Python 2",
   "language": "python",
   "name": "python2"
  },
  "language_info": {
   "codemirror_mode": {
    "name": "ipython",
    "version": 2
   },
   "file_extension": ".py",
   "mimetype": "text/x-python",
   "name": "python",
   "nbconvert_exporter": "python",
   "pygments_lexer": "ipython2",
   "version": "2.7.10"
  }
 },
 "nbformat": 4,
 "nbformat_minor": 0
}
